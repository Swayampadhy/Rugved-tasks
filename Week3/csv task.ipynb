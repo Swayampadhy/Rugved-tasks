{
 "cells": [
  {
   "cell_type": "code",
   "execution_count": 63,
   "metadata": {},
   "outputs": [],
   "source": [
    "#!/usr/bin/env python3\n",
    "import csv                           #importing csv module\n",
    "import numpy as np                   #Importing numpy module as np \n",
    "import pandas as pd                  #Importing pandas module as pd\n",
    "import matplotlib.pyplot as plt      #Importing mathplotlib as plt\n",
    "from collections import Counter      #Importing counter\n",
    "import operator"
   ]
  },
  {
   "cell_type": "code",
   "execution_count": 64,
   "metadata": {},
   "outputs": [
    {
     "name": "stdout",
     "output_type": "stream",
     "text": [
      "The no of records in this csv file is: 149\n"
     ]
    }
   ],
   "source": [
    "#This is the first question\n",
    "record_no=0\n",
    "with open('bollywood.csv') as csv_file:                        \n",
    "    csv_reader = csv.reader(csv_file, delimiter=',')                    #Reading csv file\n",
    "    for row in csv_reader:\n",
    "        record_no+=1\n",
    "print(\"The no of records in this csv file is:\",record_no-1)"
   ]
  },
  {
   "cell_type": "code",
   "execution_count": 65,
   "metadata": {},
   "outputs": [
    {
     "name": "stdout",
     "output_type": "stream",
     "text": [
      "The different release times are: ['LW' 'N' 'HS' 'FS']\n",
      "The no of movies in each release times are: [15, 99, 18, 17]\n",
      "Now sorting by movie release time\n",
      "     SlNo Release Date                         MovieName ReleaseTime  \\\n",
      "74     75    25-Apr-14                     Revolver Rani           N   \n",
      "65     66    28-Mar-14                            O Teri           N   \n",
      "75     76    28-Feb-14            Shaadi Ke Side Effects           N   \n",
      "1       2     4-Jan-13                      Table No. 21           N   \n",
      "73     74    29-Aug-14                    Raja Natwarlal           N   \n",
      "..    ...          ...                               ...         ...   \n",
      "121   122     8-Nov-13                           Satya 2          FS   \n",
      "122   123    15-Nov-13                             Rajjo          FS   \n",
      "40     41     8-Mar-13  Saheb, Biwi Aur Gangster Returns          FS   \n",
      "125   126    11-Oct-13                 War Chhod Na Yaar          FS   \n",
      "126   127    11-Oct-13                     Baat Ban Gayi          FS   \n",
      "\n",
      "         Genre  Budget  BoxOfficeCollection  YoutubeViews  YoutubeLikes  \\\n",
      "74      Drama       24                10.00       1744602          3013   \n",
      "65      Comedy      21                 3.75       1511318          3004   \n",
      "75      Comedy      50                37.80       4590539          9021   \n",
      "1    Thriller       10                12.00       1087320          1129   \n",
      "73    Thriller      35                29.60       4050407          8197   \n",
      "..         ...     ...                  ...           ...           ...   \n",
      "121   Thriller      15                 1.10        110315            89   \n",
      "122    Romance      12                 2.00       1718619          1606   \n",
      "40      Drama       15                22.00       1176596          1037   \n",
      "125     Comedy      14                 7.50         40450            33   \n",
      "126     Comedy       4                 1.50         23186             9   \n",
      "\n",
      "     YoutubeDislikes  \n",
      "74               392  \n",
      "65               278  \n",
      "75              1465  \n",
      "1                137  \n",
      "73              1155  \n",
      "..               ...  \n",
      "121               26  \n",
      "122             1083  \n",
      "40               189  \n",
      "125                7  \n",
      "126                4  \n",
      "\n",
      "[149 rows x 10 columns]\n"
     ]
    }
   ],
   "source": [
    "#Second Question\n",
    "path = 'bollywood.csv'                                                      #Path of csv file\n",
    "df = pd.read_csv(path)                                                      #Reading csv file using pandas\n",
    "no_of_movies=[]\n",
    "Release_times = df['ReleaseTime'].unique()                                  #Getting the different release times\n",
    "print(\"The different release times are:\",Release_times)\n",
    "for i in Release_times:                                                     #Looping to get the no of movies in each time\n",
    "    movieno=0\n",
    "    for j in range(0,len(df[\"ReleaseTime\"])):\n",
    "        if df[\"ReleaseTime\"][j]==i:\n",
    "            movieno+=1\n",
    "        else:\n",
    "            continue\n",
    "    no_of_movies.append(movieno)\n",
    "print(\"The no of movies in each release times are:\",no_of_movies)           #No of movies on each time\n",
    "print(\"Now sorting by movie release time\")                                  \n",
    "print(df.sort_values(by=['ReleaseTime'],ascending=False,inplace=False))     #Sorting in descending order"
   ]
  },
  {
   "cell_type": "code",
   "execution_count": 66,
   "metadata": {},
   "outputs": [
    {
     "name": "stdout",
     "output_type": "stream",
     "text": [
      "{' Drama ': 4, 'Thriller': 4, 'Action': 3, 'Romance': 3, 'Comedy': 3}\n",
      "Most released Genre during festive season is Drama and Thriller\n"
     ]
    }
   ],
   "source": [
    "#Third Question\n",
    "festive_season_mov=[]                                                       #Creating a list\n",
    "for j in range(0,len(df[\"ReleaseTime\"])):                                   \n",
    "    if df[\"ReleaseTime\"][j]=='FS':                                          #Getting values which have Release Time=FS\n",
    "        festive_season_mov.append(df[\"Genre\"][j])                           \n",
    "    else:\n",
    "        continue\n",
    "c = dict(Counter(festive_season_mov))                                        #Counting the resultant list and changing it to a dictionary\n",
    "print(c)\n",
    "print(\"Most released Genre during festive season is Drama and Thriller\")     #Printing output"
   ]
  },
  {
   "cell_type": "code",
   "execution_count": 67,
   "metadata": {},
   "outputs": [
    {
     "data": {
      "text/html": [
       "<div>\n",
       "<style scoped>\n",
       "    .dataframe tbody tr th:only-of-type {\n",
       "        vertical-align: middle;\n",
       "    }\n",
       "\n",
       "    .dataframe tbody tr th {\n",
       "        vertical-align: top;\n",
       "    }\n",
       "\n",
       "    .dataframe thead th {\n",
       "        text-align: right;\n",
       "    }\n",
       "</style>\n",
       "<table border=\"1\" class=\"dataframe\">\n",
       "  <thead>\n",
       "    <tr style=\"text-align: right;\">\n",
       "      <th>Genre</th>\n",
       "      <th>Drama</th>\n",
       "      <th>Action</th>\n",
       "      <th>Action</th>\n",
       "      <th>Comedy</th>\n",
       "      <th>Romance</th>\n",
       "      <th>Thriller</th>\n",
       "      <th>Thriller</th>\n",
       "    </tr>\n",
       "    <tr>\n",
       "      <th>ReleaseTime</th>\n",
       "      <th></th>\n",
       "      <th></th>\n",
       "      <th></th>\n",
       "      <th></th>\n",
       "      <th></th>\n",
       "      <th></th>\n",
       "      <th></th>\n",
       "    </tr>\n",
       "  </thead>\n",
       "  <tbody>\n",
       "    <tr>\n",
       "      <th>FS</th>\n",
       "      <td>4</td>\n",
       "      <td>3</td>\n",
       "      <td>0</td>\n",
       "      <td>3</td>\n",
       "      <td>3</td>\n",
       "      <td>4</td>\n",
       "      <td>0</td>\n",
       "    </tr>\n",
       "    <tr>\n",
       "      <th>HS</th>\n",
       "      <td>6</td>\n",
       "      <td>3</td>\n",
       "      <td>0</td>\n",
       "      <td>5</td>\n",
       "      <td>3</td>\n",
       "      <td>1</td>\n",
       "      <td>0</td>\n",
       "    </tr>\n",
       "    <tr>\n",
       "      <th>LW</th>\n",
       "      <td>1</td>\n",
       "      <td>3</td>\n",
       "      <td>0</td>\n",
       "      <td>5</td>\n",
       "      <td>4</td>\n",
       "      <td>1</td>\n",
       "      <td>1</td>\n",
       "    </tr>\n",
       "    <tr>\n",
       "      <th>N</th>\n",
       "      <td>24</td>\n",
       "      <td>12</td>\n",
       "      <td>3</td>\n",
       "      <td>23</td>\n",
       "      <td>15</td>\n",
       "      <td>20</td>\n",
       "      <td>2</td>\n",
       "    </tr>\n",
       "  </tbody>\n",
       "</table>\n",
       "</div>"
      ],
      "text/plain": [
       "Genre         Drama   Action  Action   Comedy  Romance  Thriller  Thriller \n",
       "ReleaseTime                                                                \n",
       "FS                 4       3        0       3        3         4          0\n",
       "HS                 6       3        0       5        3         1          0\n",
       "LW                 1       3        0       5        4         1          1\n",
       "N                 24      12        3      23       15        20          2"
      ]
     },
     "execution_count": 67,
     "metadata": {},
     "output_type": "execute_result"
    }
   ],
   "source": [
    "#Fourth Question\n",
    "pd.crosstab(df.ReleaseTime,df.Genre)      #Cross Tabulation to get how many genres were released with their release times"
   ]
  },
  {
   "cell_type": "code",
   "execution_count": 68,
   "metadata": {},
   "outputs": [
    {
     "name": "stdout",
     "output_type": "stream",
     "text": [
      "0      2014\n",
      "1      2013\n",
      "2      2014\n",
      "3      2013\n",
      "4      2014\n",
      "       ... \n",
      "144    2015\n",
      "145    2015\n",
      "146    2015\n",
      "147    2015\n",
      "148    2014\n",
      "Name: year, Length: 149, dtype: int64\n",
      "2013 has the most releases\n"
     ]
    }
   ],
   "source": [
    "#Fifth Question\n",
    "df['year'] = pd.DatetimeIndex(df['Release Date']).year        #Creating new column year\n",
    "print(df[\"year\"])\n",
    "one_four=0\n",
    "one_three=0\n",
    "one_five=0\n",
    "Release_year = df['year'].unique()                            #getting unique years\n",
    "for i in Release_year:\n",
    "    if i==2014:\n",
    "        one_four+=1\n",
    "    elif i==2013:\n",
    "        one_three+=1\n",
    "    else:\n",
    "        one_five+=1\n",
    "if one_four>one_three and one_four>one_five:                  #printing output\n",
    "    print(\"2014 has the most releases\")\n",
    "elif one_five>one_four and one_five>one_three:\n",
    "    print(\"2015 has the most releases\")\n",
    "else:\n",
    "    print(\"2013 has the most releases\")"
   ]
  },
  {
   "cell_type": "code",
   "execution_count": 69,
   "metadata": {},
   "outputs": [
    {
     "name": "stdout",
     "output_type": "stream",
     "text": [
      "The month which has the max no of high budget movies is: 2\n"
     ]
    }
   ],
   "source": [
    "#sixth question\n",
    "df['month'] = pd.DatetimeIndex(df['Release Date']).month                            #Creating new column month\n",
    "rich_month=[]                                                                       #Declaring a list\n",
    "for j in range(0,len(df[\"month\"])):                                   \n",
    "    if df[\"Budget\"][j]>=30:                                          \n",
    "        rich_month.append(df[\"month\"][j])                           \n",
    "    else:\n",
    "        continue\n",
    "coun = dict(Counter(rich_month))                                                    #Converting the list to a dictionary\n",
    "most_occ_month=max(coun.items(), key=operator.itemgetter(1))[0]                     #Getting the month with max no of high budget movies\n",
    "print(\"The month which has the max no of high budget movies is:\",most_occ_month)    #Printing month with the highest budget movies"
   ]
  },
  {
   "cell_type": "code",
   "execution_count": 70,
   "metadata": {},
   "outputs": [
    {
     "name": "stdout",
     "output_type": "stream",
     "text": [
      "Top 10 movies with minimum Return of Investment(ROI)      SlNo Release Date             MovieName ReleaseTime     Genre  Budget  \\\n",
      "9      10    11-Jan-13             Gangoobai           N    Drama        2   \n",
      "15     16    18-Jan-13               Bandook           N    Action       4   \n",
      "53     54    22-Mar-13              Sona Spa           N  Thriller      10   \n",
      "3       4     4-Jan-13      Rajdhani Express           N    Drama        7   \n",
      "49     50     2-May-14  Kya Dilli Kya Lahore          HS    Drama        7   \n",
      "121   122     8-Nov-13               Satya 2          FS  Thriller      15   \n",
      "67     68     2-May-14          Purani Jeans          HS   Romance      10   \n",
      "103   104    25-Apr-14        Samrat and Co.           N  Thriller      18   \n",
      "30     31     7-Feb-14             Heartless           N  Thriller      12   \n",
      "102   103    25-Apr-14               Kaanchi           N    Drama       31   \n",
      "\n",
      "     BoxOfficeCollection  YoutubeViews  YoutubeLikes  YoutubeDislikes  year  \\\n",
      "9                   0.01          4354             1                1  2013   \n",
      "15                  0.09         28391             8               14  2013   \n",
      "53                  0.24         79430            61              112  2013   \n",
      "3                   0.35         42626            86               19  2013   \n",
      "49                  0.50        492344          2018               64  2014   \n",
      "121                 1.10        110315            89               26  2013   \n",
      "67                  1.10       1537063           822              229  2014   \n",
      "103                 2.00        371133           532              180  2014   \n",
      "30                  1.50       4823892          5797              227  2014   \n",
      "102                 4.00       2360968          2807              595  2014   \n",
      "\n",
      "     month       ROI  \n",
      "9        1 -0.995000  \n",
      "15       1 -0.977500  \n",
      "53       3 -0.976000  \n",
      "3        1 -0.950000  \n",
      "49       5 -0.928571  \n",
      "121     11 -0.926667  \n",
      "67       5 -0.890000  \n",
      "103      4 -0.888889  \n",
      "30       2 -0.875000  \n",
      "102      4 -0.870968  \n"
     ]
    }
   ],
   "source": [
    "#Question seven\n",
    "df[\"ROI\"]=(df['BoxOfficeCollection'] - df['Budget']) / df['Budget']                     #Creating a new column and calculating ROI\n",
    "sortv= df.sort_values([\"ROI\"])                                                          #Sorting by ROI\n",
    "print(\"Top 10 movies with minimum Return of Investment(ROI)\",sortv.head(10))            #Getting output"
   ]
  },
  {
   "cell_type": "code",
   "execution_count": 71,
   "metadata": {},
   "outputs": [
    {
     "name": "stdout",
     "output_type": "stream",
     "text": [
      "The release times are: ['LW' 'N' 'HS' 'FS']\n",
      "The respective average ROIs for each time are: [1.1272053098737973, 0.7194957988691285, 0.7374100241261616, 0.7643867624682313]\n",
      "Long Weekends(LW) are the most profitable\n"
     ]
    }
   ],
   "source": [
    "#Question eight\n",
    "total_roi_in_one_time=0                                                             #Declaring a variable for total roi for each time\n",
    "no_of_roi_movies=0                                                                  #Declaring a varible for no of movies in each time\n",
    "avg_roi_each_time=0                                                                 #Declaring a variable for average roi of each time\n",
    "profits_in_release_times=[]                                                         #Looping to get variable for each time\n",
    "for i in Release_times:\n",
    "    for j in range(0,len(df[\"ROI\"])):\n",
    "        if df[\"ReleaseTime\"][j]==i:\n",
    "            no_of_roi_movies+=1\n",
    "            total_roi_in_one_time+=df[\"ROI\"][j]\n",
    "    avg_roi_each_time=total_roi_in_one_time/no_of_roi_movies                         #Calculating average ROI of each time\n",
    "    profits_in_release_times.append(avg_roi_each_time)                               #Appending it to a list\n",
    "print(\"The release times are:\",Release_times)\n",
    "print(\"The respective average ROIs for each time are:\",profits_in_release_times)     #Output\n",
    "print(\"Long Weekends(LW) are the most profitable\")"
   ]
  },
  {
   "cell_type": "code",
   "execution_count": 72,
   "metadata": {},
   "outputs": [
    {
     "name": "stdout",
     "output_type": "stream",
     "text": [
      "Yes it is correlated\n"
     ]
    }
   ],
   "source": [
    "#Question nine\n",
    "box_office_column=df[\"BoxOfficeCollection\"]                                        #Declaring a variable for box office\n",
    "youtube_views_column=df[\"YoutubeViews\"]                                            #Declaring a variable for youtube views\n",
    "correlation=box_office_column.corr(youtube_views_column)                           #Checking if there is a correlation\n",
    "if correlation>0:                                                                  #Output\n",
    "    print('Yes it is correlated')\n",
    "else:\n",
    "    print('No it isnt correlated')"
   ]
  },
  {
   "cell_type": "code",
   "execution_count": 73,
   "metadata": {},
   "outputs": [
    {
     "data": {
      "image/png": "[encoded data removed]",
      "text/plain": [
       "<Figure size 432x288 with 1 Axes>"
      ]
     },
     "metadata": {
      "needs_background": "light"
     },
     "output_type": "display_data"
    }
   ],
   "source": [
    "#Question ten\n",
    "boxplot_youtube_genre= list(set(df['Genre']))                                     #Creating a boxplot for genre vs youtube views\n",
    "boxplot_list = ['sa','c','d','r','a','st','t']\n",
    "for i in range(len(boxplot_youtube_genre)):                                       \n",
    "    boxplot_list[i] = [ ]\n",
    "    boxplot_list[i] += list(df[df['Genre'] == boxplot_youtube_genre[i]]['YoutubeViews'])\n",
    "plt.boxplot([boxplot_list[i] for i in range(len(boxplot_youtube_genre))],labels=boxplot_youtube_genre)\n",
    "plt.title(\"Boxplot For Genre-Views Comparision\")\n",
    "plt.xlabel(\"Genre\")\n",
    "plt.ylabel(\"Youtube Views\")\n",
    "plt.show()"
   ]
  },
  {
   "cell_type": "code",
   "execution_count": null,
   "metadata": {},
   "outputs": [],
   "source": [
    "#Question Eleven\n",
    "heatmap_df_1=df.drop(df.columns[[0,1,2,3,4,10,11,12,13,14]],axis=1)\n",
    "heatmap_df_2= heatmap_df_1.columns[[0,1,2,3,4]]\n",
    "plt.imshow(heatmap_df_1, cmap = 'autumn', interpolation = 'nearest',)\n",
    "plt.title(\"Heat Map\")\n",
    "plt.yticks(range(len(heatmap_df_2)),heatmap_df_2)\n",
    "plt.xticks(range(len(heatmap_df_2)),heatmap_df_2,rotation=90)\n",
    "plt.show()\n",
    "print(f'YoutubeViews,YoutubeLikes are highly correlated{end}')"
   ]
  },
  {
   "cell_type": "code",
   "execution_count": null,
   "metadata": {},
   "outputs": [],
   "source": [
    "#Question twelve\n",
    "df_graph= df.groupby('Genre').sum('Box Office Collection')\n",
    "df_graph_2 = df_graph['BoxOfficeCollection']\n",
    "df_graph_3= list(df_graph.index[:])\n",
    "print(f'The genre of movies and their box office collection\\n{df_graph_2}{end}')\n",
    "plt.bar(df_graph_3, list(df_graph_2))\n",
    "plt.title(\"Genre vs Box Office Collection\")\n",
    "plt.xlabel(\"Genre\")\n",
    "plt.ylabel(\"Box Office Collection\")\n",
    "plt.show()"
   ]
  },
  {
   "cell_type": "code",
   "execution_count": null,
   "metadata": {},
   "outputs": [],
   "source": [
    "#Question 13\n",
    "graph_df_1 = df.groupby('Year').sum('Movies Released')['Movies Released']\n",
    "graph_df_2= list(df.groupby('Year').sum('Movies Released').index[:])\n",
    "print(f'Number of movies released in every year\\n{graph_df_1}{end}')\n",
    "plt.bar(graph_df_2, graph_df_1)\n",
    "plt.yticks(range(70)[::5])\n",
    "plt.title(\"Year vs Movies Released\")\n",
    "plt.xlabel(\"Year\")\n",
    "plt.ylabel(\"Movies Released\")\n",
    "plt.show()"
   ]
  },
  {
   "cell_type": "code",
   "execution_count": null,
   "metadata": {},
   "outputs": [],
   "source": [
    "#Question 14\n",
    "distribution_1= df.groupby('Genre').sum('Budget')['Budget']\n",
    "distribution_2= list(distribution_1.index[:])\n",
    "plt.pie(distribution_1, explode=(0, 0, 0.1, 0, 0, 0, 0.1),\n",
    "       labels=distribution_2, autopct='%.2f %%')\n",
    "plt.title(\"Distribution of movie budget for every Genre\")\n",
    "plt.show()\n",
    "print(f'Distribution of movie budget for every Genre\\n{distribution_1}{end}')"
   ]
  },
  {
   "cell_type": "code",
   "execution_count": null,
   "metadata": {},
   "outputs": [],
   "source": [
    "#Question 15\n",
    "last_qs_1= df.groupby('Year').sum('Youtube Likes')\n",
    "last_qs_2 = list(last_qs_1.index[:])\n",
    "print(f'The number of YouTube likes and YouTube dislikes every year\\n{last_qs_1.iloc[:,[4,5]]}{end}')\n",
    "plt.plot(last_qs_2, last_qs_1.iloc[:, 4], 'b*-')\n",
    "plt.plot(last_qs_2, last_qs_1.iloc[:, 5], 'r*-')\n",
    "plt.legend(['Youtube Likes', 'Youtube dislikes'])\n",
    "plt.title(\"Youtube Likes vs Youtube dislikes every year\")\n",
    "plt.xlabel(\"Year\")\n",
    "plt.ylabel(\"count\")\n",
    "plt.show()\n",
    "print()"
   ]
  }
 ],
 "metadata": {
  "interpreter": {
   "hash": "8f5d4336265aefe74363406137f8d11582f72e8d6e6f4d1a48e89bb19438c71f"
  },
  "kernelspec": {
   "display_name": "Python 3.8.3 ('base')",
   "language": "python",
   "name": "python3"
  },
  "language_info": {
   "codemirror_mode": {
    "name": "ipython",
    "version": 3
   },
   "file_extension": ".py",
   "mimetype": "text/x-python",
   "name": "python",
   "nbconvert_exporter": "python",
   "pygments_lexer": "ipython3",
   "version": "3.8.3"
  },
  "orig_nbformat": 4
 },
 "nbformat": 4,
 "nbformat_minor": 2
}
