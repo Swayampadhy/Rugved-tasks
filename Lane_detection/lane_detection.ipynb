{
 "cells": [
  {
   "cell_type": "code",
   "execution_count": 36,
   "metadata": {},
   "outputs": [],
   "source": [
    "#importing libraries\n",
    "import cv2 as cv\n",
    "import numpy as np\n",
    "import matplotlib.pyplot as plt"
   ]
  },
  {
   "cell_type": "code",
   "execution_count": 37,
   "metadata": {},
   "outputs": [],
   "source": [
    "#Defining Regions of interest\n",
    "def region_of_interest(img, vertices):\n",
    "    mask = np.zeros_like(img)\n",
    "    match_mask_color = (255)\n",
    "    cv.fillPoly(mask, vertices, match_mask_color)\n",
    "    masked_image = cv.bitwise_and(img, mask)\n",
    "    return masked_image"
   ]
  },
  {
   "cell_type": "code",
   "execution_count": 38,
   "metadata": {},
   "outputs": [],
   "source": [
    "#Drawing lines\n",
    "def draw_lines(img, lines):\n",
    "    img = np.copy(img)\n",
    "    blank_image = np.zeros((img.shape[0], img.shape[1], 3), np.uint8)\n",
    " \n",
    "    for line in lines:\n",
    "        for x1, y1, x2, y2 in line:\n",
    "            cv.line(blank_image, (x1, y1), (x2, y2), (0, 255, 0), 2)\n",
    "    img = cv.addWeighted(img, 0.8, blank_image, 1, 0.0)\n",
    "    return img"
   ]
  },
  {
   "cell_type": "code",
   "execution_count": 39,
   "metadata": {},
   "outputs": [],
   "source": [
    "#Detecting lanes\n",
    "def lanesDetection(img):\n",
    "    height = img.shape[0]\n",
    "    width = img.shape[1]\n",
    " \n",
    "    region_of_interest_vertices = [\n",
    "        (200, height), (width/2, height/1.37), (width-300, height)\n",
    "    ]\n",
    "    gray_img = cv.cvtColor(img, cv.COLOR_RGB2GRAY)\n",
    "    edge = cv.Canny(gray_img, 50, 100, apertureSize=3)\n",
    "    cropped_image = region_of_interest(\n",
    "        edge, np.array([region_of_interest_vertices], np.int32))\n",
    " \n",
    "    lines = cv.HoughLinesP(cropped_image, rho=2, theta=np.pi/180,\n",
    "                           threshold=50, lines=np.array([]), minLineLength=10, maxLineGap=30)\n",
    "    image_with_lines = draw_lines(img, lines)\n",
    "    # plt.imshow(image_with_lines)\n",
    "    # plt.show()\n",
    "    return image_with_lines"
   ]
  },
  {
   "cell_type": "code",
   "execution_count": 40,
   "metadata": {},
   "outputs": [],
   "source": [
    "#Main\n",
    "cap = cv.VideoCapture('/Lane_vgt.mp4')\n",
    "while(cap.isOpened()):\n",
    "        ret, frame = cap.read()\n",
    "        frame = lanesDetection(frame)\n",
    "        cv.imshow('Lanes Detection', frame)\n",
    "        if cv.waitKey(1) & 0xFF == ord('q'):\n",
    "            break\n",
    " \n",
    "cap.release()\n",
    "cv.destroyAllWindows()"
   ]
  }
 ],
 "metadata": {
  "interpreter": {
   "hash": "05e3072004b65aed7a49fdcef325b64051b4edb1acb58538df6a9a088925fa24"
  },
  "kernelspec": {
   "display_name": "Python 3.8.12 ('R_dev')",
   "language": "python",
   "name": "python3"
  },
  "language_info": {
   "codemirror_mode": {
    "name": "ipython",
    "version": 3
   },
   "file_extension": ".py",
   "mimetype": "text/x-python",
   "name": "python",
   "nbconvert_exporter": "python",
   "pygments_lexer": "ipython3",
   "version": "3.9.7"
  },
  "orig_nbformat": 4
 },
 "nbformat": 4,
 "nbformat_minor": 2
}
