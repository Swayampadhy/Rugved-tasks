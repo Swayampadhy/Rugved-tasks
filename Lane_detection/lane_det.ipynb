{
 "cells": [
  {
   "cell_type": "code",
   "execution_count": null,
   "metadata": {},
   "outputs": [],
   "source": [
    "#importing libraries\n",
    "import cv2 \n",
    "import numpy as np"
   ]
  },
  {
   "cell_type": "code",
   "execution_count": null,
   "metadata": {},
   "outputs": [],
   "source": [
    "#defining region of interest\n",
    "def roi(img,vertices):\n",
    "    mask = np.zeros_like(img)\n",
    "    cv2.fillPoly(mask,vertices,255) \n",
    "    masked_image=cv2.bitwise_and(img,mask)\n",
    "    return masked_image"
   ]
  },
  {
   "cell_type": "code",
   "execution_count": null,
   "metadata": {},
   "outputs": [],
   "source": [
    "#preprocessing image\n",
    "def preprocess(img):\n",
    "    height = img.shape[0]\n",
    "    width = img.shape[1]\n",
    "    roi_vertices = [(0,height),(5*width/10,6*height/10),(width,height)]\n",
    "    gray = cv2.cvtColor(img,cv2.COLOR_RGB2GRAY)\n",
    "    canny = cv2.Canny(gray,100,150)\n",
    "    cropped = roi(canny,np.array([roi_vertices],np.int32))\n",
    "    return cropped"
   ]
  },
  {
   "cell_type": "code",
   "execution_count": null,
   "metadata": {},
   "outputs": [],
   "source": [
    "#applying hough transform\n",
    "def draw_hough_lines(img,lines):\n",
    "    img = np.copy(img)\n",
    "    blank_image = np.zeros((img.shape[0],img.shape[1],3),dtype=np.uint8)\n",
    "    for line in lines:\n",
    "        for x1,y1,x2,y2 in line:\n",
    "            cv2.line(blank_image,(x1,y1),(x2,y2),(255,0,255),thickness=10)\n",
    "    img = cv2.addWeighted(img,0.8,blank_image,1,0.0)\n",
    "    return img"
   ]
  },
  {
   "cell_type": "code",
   "execution_count": null,
   "metadata": {},
   "outputs": [],
   "source": [
    "#main\n",
    "vid = cv2.VideoCapture('lane_vgt.mp4')\n",
    "while True:\n",
    "    ret,frame = vid.read()\n",
    "    if frame is None:\n",
    "        break\n",
    "    cropped= preprocess(frame)\n",
    "    lines = cv2.HoughLinesP(cropped,rho=6,threshold=60,theta=np.pi/180,minLineLength=50,maxLineGap=150,lines=np.array([]))\n",
    "    img = draw_hough_lines(frame,lines)\n",
    "    cv2.imshow('Lane detection',img)\n",
    "    if cv2.waitKey(1) & 0xFF == 27:\n",
    "       break"
   ]
  }
 ],
 "metadata": {
  "interpreter": {
   "hash": "8f5d4336265aefe74363406137f8d11582f72e8d6e6f4d1a48e89bb19438c71f"
  },
  "kernelspec": {
   "display_name": "Python 3.9.7 ('base')",
   "language": "python",
   "name": "python3"
  },
  "language_info": {
   "name": "python",
   "version": "3.9.7"
  },
  "orig_nbformat": 4
 },
 "nbformat": 4,
 "nbformat_minor": 2
}
