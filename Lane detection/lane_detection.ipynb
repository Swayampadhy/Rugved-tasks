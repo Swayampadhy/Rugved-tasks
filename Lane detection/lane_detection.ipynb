{
 "cells": [
  {
   "cell_type": "code",
   "execution_count": null,
   "metadata": {},
   "outputs": [],
   "source": [
    "#importing libraries\n",
    "import os\n",
    "import re\n",
    "import cv2\n",
    "import numpy as np\n",
    "from tqdm import tqdm_notebook \n",
    "import matplotlib.pyplot as plt\n",
    "from os.path import isfile, join"
   ]
  },
  {
   "cell_type": "code",
   "execution_count": null,
   "metadata": {},
   "outputs": [],
   "source": [
    "#reading video frames from a video and aking progress bars\n",
    "col_frames = os.listdir('frames/')\n",
    "col_frames.sort(key=lambda f: int(re.sub('\\D', '', f)))\n",
    "col_images=[]\n",
    "for i in tqdm_notebook(col_frames):\n",
    "    img = cv2.imread('frames/'+i)\n",
    "    col_images.append(img)"
   ]
  },
  {
   "cell_type": "code",
   "execution_count": null,
   "metadata": {},
   "outputs": [],
   "source": [
    "#plotting frames\n",
    "idx = 457\n",
    "plt.figure(figsize=(10,10))\n",
    "plt.imshow(col_images[idx][:,:,0], cmap= \"gray\")\n",
    "plt.show()"
   ]
  },
  {
   "cell_type": "code",
   "execution_count": null,
   "metadata": {},
   "outputs": [],
   "source": [
    "#creating frame mask and specifying coordinates of polygon\n",
    "stencil = np.zeros_like(col_images[idx][:,:,0])\n",
    "polygon = np.array([[50,270], [220,160], [360,160], [480,270]])\n",
    "cv2.fillConvexPoly(stencil, polygon, 1)"
   ]
  },
  {
   "cell_type": "code",
   "execution_count": null,
   "metadata": {},
   "outputs": [],
   "source": [
    "#plotting polygon and applying a mask on it\n",
    "plt.figure(figsize=(10,10))\n",
    "plt.imshow(stencil, cmap= \"gray\")\n",
    "plt.show()\n",
    "img = cv2.bitwise_and(col_images[idx][:,:,0], col_images[idx][:,:,0], mask=stencil)\n",
    "plt.figure(figsize=(10,10))\n",
    "plt.imshow(img, cmap= \"gray\")\n",
    "plt.show()"
   ]
  },
  {
   "cell_type": "code",
   "execution_count": null,
   "metadata": {},
   "outputs": [],
   "source": [
    "#Thresholding the image\n",
    "ret, thresh = cv2.threshold(img, 130, 145, cv2.THRESH_BINARY)\n",
    "plt.figure(figsize=(10,10))\n",
    "plt.imshow(thresh, cmap= \"gray\")\n",
    "plt.show()"
   ]
  },
  {
   "cell_type": "code",
   "execution_count": null,
   "metadata": {},
   "outputs": [],
   "source": [
    "#appyling hough line transform\n",
    "lines = cv2.HoughLinesP(thresh, 1, np.pi/180, 30, maxLineGap=200)\n",
    "dmy = col_images[idx][:,:,0].copy()\n",
    "for line in lines:\n",
    "  x1, y1, x2, y2 = line[0]\n",
    "  cv2.line(dmy, (x1, y1), (x2, y2), (255, 0, 0), 3)\n",
    "plt.figure(figsize=(10,10))\n",
    "plt.imshow(dmy, cmap= \"gray\")\n",
    "plt.show()"
   ]
  },
  {
   "cell_type": "code",
   "execution_count": null,
   "metadata": {},
   "outputs": [],
   "source": [
    "#applying on everyframe and saving them in a new directory\n",
    "\n",
    "cnt = 0\n",
    "\n",
    "for img in tqdm_notebook(col_images):\n",
    "  masked = cv2.bitwise_and(img[:,:,0], img[:,:,0], mask=stencil)\n",
    "  ret, thresh = cv2.threshold(masked, 130, 145, cv2.THRESH_BINARY)\n",
    "  lines = cv2.HoughLinesP(thresh, 1, np.pi/180, 30, maxLineGap=200)\n",
    "  dmy = img.copy()\n",
    "  try:\n",
    "    for line in lines:\n",
    "      x1, y1, x2, y2 = line[0]\n",
    "      cv2.line(dmy, (x1, y1), (x2, y2), (255, 0, 0), 3)  \n",
    "    cv2.imwrite('detected/'+str(cnt)+'.png',dmy)\n",
    "  \n",
    "  except TypeError: \n",
    "    cv2.imwrite('detected/'+str(cnt)+'.png',img)\n",
    "\n",
    "  cnt+= 1"
   ]
  },
  {
   "cell_type": "code",
   "execution_count": null,
   "metadata": {},
   "outputs": [],
   "source": [
    "#preparing video output\n",
    "pathIn= 'detected/'\n",
    "pathOut = 'roads_v2.mp4'\n",
    "fps = 30.0\n",
    "files = [f for f in os.listdir(pathIn) if isfile(join(pathIn, f))]\n",
    "files.sort(key=lambda f: int(re.sub('\\D', '', f)))\n",
    "frame_list = []\n",
    "for i in tqdm_notebook(range(len(files))):\n",
    "    filename=pathIn + files[i]\n",
    "    img = cv2.imread(filename)\n",
    "    height, width, layers = img.shape\n",
    "    size = (width,height)\n",
    "    frame_list.append(img)\n",
    "\n",
    "out = cv2.VideoWriter(pathOut,cv2.VideoWriter_fourcc(*'DIVX'), fps, size)\n",
    "for i in range(len(frame_list)):\n",
    "    out.write(frame_list[i])\n",
    "\n",
    "out.release()"
   ]
  }
 ],
 "metadata": {
  "interpreter": {
   "hash": "05e3072004b65aed7a49fdcef325b64051b4edb1acb58538df6a9a088925fa24"
  },
  "kernelspec": {
   "display_name": "Python 3.8.12 ('R_dev')",
   "language": "python",
   "name": "python3"
  },
  "language_info": {
   "codemirror_mode": {
    "name": "ipython",
    "version": 3
   },
   "file_extension": ".py",
   "mimetype": "text/x-python",
   "name": "python",
   "nbconvert_exporter": "python",
   "pygments_lexer": "ipython3",
   "version": "3.9.7"
  },
  "orig_nbformat": 4
 },
 "nbformat": 4,
 "nbformat_minor": 2
}
